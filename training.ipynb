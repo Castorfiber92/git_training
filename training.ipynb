{
 "cells": [
  {
   "cell_type": "markdown",
   "id": "746820dc",
   "metadata": {},
   "source": [
    "## Test"
   ]
  },
  {
   "cell_type": "markdown",
   "id": "51dae172",
   "metadata": {},
   "source": [
    "### Writing this in another branch\n"
   ]
  }
 ],
 "metadata": {
  "kernelspec": {
   "display_name": "Python 3",
   "language": "python",
   "name": "python3"
  },
  "language_info": {
   "name": "python",
   "version": "3.12.10"
  }
 },
 "nbformat": 4,
 "nbformat_minor": 5
}
